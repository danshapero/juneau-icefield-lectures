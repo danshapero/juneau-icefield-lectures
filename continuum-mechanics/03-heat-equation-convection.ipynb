{
 "cells": [
  {
   "cell_type": "code",
   "execution_count": null,
   "id": "miniature-disposition",
   "metadata": {},
   "outputs": [],
   "source": [
    "import firedrake\n",
    "from firedrake import Constant\n",
    "Lx, Ly = Constant(2.0), Constant(1.0)\n",
    "ny = 32\n",
    "nx = int(float(Lx / Ly)) * ny\n",
    "mesh = firedrake.RectangleMesh(nx, ny, float(Lx), float(Ly))"
   ]
  },
  {
   "cell_type": "code",
   "execution_count": null,
   "id": "indoor-jurisdiction",
   "metadata": {},
   "outputs": [],
   "source": [
    "import numpy as np\n",
    "from numpy import pi as π\n",
    "from firedrake import sqrt, exp, min_value, max_value\n",
    "\n",
    "def clamp(z, zmin, zmax):\n",
    "    return min_value(Constant(zmax), max_value(Constant(zmin), z))\n",
    "\n",
    "def switch(z):\n",
    "    return exp(z) / (exp(z) + exp(-z))\n",
    "\n",
    "Ra = Constant(1e6)\n",
    "\n",
    "ϵ = Constant(1 / nx)\n",
    "x = firedrake.SpatialCoordinate(mesh)\n",
    "\n",
    "q = Lx**(7 / 3) / (1 + Lx**4)**(2 / 3) * (Ra / (2 * np.sqrt(π)))**(2/3)\n",
    "Q = 2 * firedrake.sqrt(Lx / (π * q))\n",
    "T_u = 0.5 * switch((1 - x[1]) / 2 * sqrt(q / (x[0] + ϵ)))\n",
    "T_l = 1 - 0.5 * switch(x[1] / 2 * sqrt(q / (Lx - x[0] + ϵ)))\n",
    "T_r = 0.5 + Q / (2 * np.sqrt(π)) * sqrt(q / (x[1] + 1)) * exp(-x[0]**2 * q / (4 * x[1] + 4))\n",
    "T_s = 0.5 - Q / (2 * np.sqrt(π)) * sqrt(q / (2 - x[1])) * exp(-(Lx - x[0])**2 * q / (8 - 4 * x[1]))\n",
    "expr = T_u + T_l + T_r + T_s - Constant(1.5)"
   ]
  },
  {
   "cell_type": "code",
   "execution_count": null,
   "id": "municipal-average",
   "metadata": {},
   "outputs": [],
   "source": [
    "degree = 1\n",
    "temperature_space = firedrake.FunctionSpace(mesh, 'CG', degree)\n",
    "T_0 = firedrake.Function(temperature_space)\n",
    "T_0.interpolate(clamp(expr, 0, 1))\n",
    "T = T_0.copy(deepcopy=True)"
   ]
  },
  {
   "cell_type": "code",
   "execution_count": null,
   "id": "practical-holiday",
   "metadata": {},
   "outputs": [],
   "source": [
    "import matplotlib.pyplot as plt\n",
    "def subplots():\n",
    "    fig, axes = plt.subplots()\n",
    "    axes.set_aspect('equal')\n",
    "    axes.get_xaxis().set_visible(False)\n",
    "    axes.get_yaxis().set_visible(False)\n",
    "    axes.set_xlim(0, float(Lx))\n",
    "    axes.set_ylim(0, float(Ly))\n",
    "    return fig, axes\n",
    "\n",
    "fig, axes = subplots()\n",
    "firedrake.tripcolor(T, cmap='inferno', axes=axes);"
   ]
  },
  {
   "cell_type": "code",
   "execution_count": null,
   "id": "little-criterion",
   "metadata": {},
   "outputs": [],
   "source": [
    "from firedrake import as_vector, grad\n",
    "X = as_vector((x[0] / Lx, x[1] / Ly))\n",
    "Ψ = X[0]**2 * (1 - X[0])**2 * X[1]**2 * (1 - X[1])**2\n",
    "grad_Ψ = grad(Ψ)\n",
    "U = Constant(2.5e4)\n",
    "expr = U * as_vector((-grad_Ψ[1], grad_Ψ[0]))\n",
    "\n",
    "velocity_space = firedrake.VectorFunctionSpace(mesh, 'CG', 2)\n",
    "u = firedrake.Function(velocity_space).interpolate(expr)"
   ]
  },
  {
   "cell_type": "code",
   "execution_count": null,
   "id": "placed-curve",
   "metadata": {},
   "outputs": [],
   "source": [
    "fig, axes = subplots()\n",
    "firedrake.quiver(u, cmap='inferno', axes=axes);"
   ]
  },
  {
   "cell_type": "code",
   "execution_count": null,
   "id": "infrared-evidence",
   "metadata": {},
   "outputs": [],
   "source": [
    "ρ, c, k = Constant(1), Constant(1), Constant(1)"
   ]
  },
  {
   "cell_type": "code",
   "execution_count": null,
   "id": "amended-conditioning",
   "metadata": {},
   "outputs": [],
   "source": [
    "from firedrake import inner, dx, ds\n",
    "\n",
    "T_n = T.copy(deepcopy=True)\n",
    "ϕ = firedrake.TestFunction(temperature_space)\n",
    "\n",
    "F_mass = ρ * c * (T - T_n) * ϕ * dx\n",
    "F_convection = -ρ * c * T * inner(u, grad(ϕ)) * dx\n",
    "F_conduction = k * inner(grad(T), grad(ϕ)) * dx\n",
    "\n",
    "δt = Constant(1e-4)\n",
    "F = F_mass + δt * (F_convection + F_conduction)"
   ]
  },
  {
   "cell_type": "code",
   "execution_count": null,
   "id": "distant-identity",
   "metadata": {},
   "outputs": [],
   "source": [
    "lower_bc = firedrake.DirichletBC(temperature_space, 1, [3])\n",
    "upper_bc = firedrake.DirichletBC(temperature_space, 0, [4])\n",
    "bcs = [lower_bc, upper_bc]"
   ]
  },
  {
   "cell_type": "code",
   "execution_count": null,
   "id": "precious-consumer",
   "metadata": {},
   "outputs": [],
   "source": [
    "from firedrake import (\n",
    "    NonlinearVariationalProblem as Problem,\n",
    "    NonlinearVariationalSolver as Solver,\n",
    ")\n",
    "\n",
    "temperature_problem = Problem(F, T, bcs)\n",
    "temperature_solver = Solver(temperature_problem)"
   ]
  },
  {
   "cell_type": "code",
   "execution_count": null,
   "id": "solid-federal",
   "metadata": {},
   "outputs": [],
   "source": [
    "import tqdm\n",
    "final_time = 1e-1\n",
    "num_steps = int(final_time / float(δt))\n",
    "Ts = [T.copy(deepcopy=True)]\n",
    "output_freq = 5\n",
    "for step in tqdm.trange(num_steps):\n",
    "    temperature_solver.solve()\n",
    "    T_n.assign(T)\n",
    "    \n",
    "    if (step + 1) % output_freq == 0:\n",
    "        Ts.append(T.copy(deepcopy=True))"
   ]
  },
  {
   "cell_type": "code",
   "execution_count": null,
   "id": "returning-religion",
   "metadata": {},
   "outputs": [],
   "source": [
    "%%capture\n",
    "fig, axes = subplots()\n",
    "colors = firedrake.tripcolor(\n",
    "    Ts[0], num_sample_points=4, vmin=0.0, vmax=1.0, cmap='inferno', axes=axes\n",
    ")"
   ]
  },
  {
   "cell_type": "code",
   "execution_count": null,
   "id": "directed-server",
   "metadata": {},
   "outputs": [],
   "source": [
    "from matplotlib.animation import FuncAnimation\n",
    "fn_plotter = firedrake.FunctionPlotter(mesh, num_sample_points=4)\n",
    "def animate(T):\n",
    "    colors.set_array(fn_plotter(T))\n",
    "\n",
    "animation = FuncAnimation(fig, animate, frames=Ts, interval=1e3 / 24)"
   ]
  },
  {
   "cell_type": "code",
   "execution_count": null,
   "id": "brief-confidence",
   "metadata": {},
   "outputs": [],
   "source": [
    "from IPython.display import HTML\n",
    "HTML(animation.to_html5_video())"
   ]
  }
 ],
 "metadata": {
  "kernelspec": {
   "display_name": "firedrake",
   "language": "python",
   "name": "firedrake"
  },
  "language_info": {
   "codemirror_mode": {
    "name": "ipython",
    "version": 3
   },
   "file_extension": ".py",
   "mimetype": "text/x-python",
   "name": "python",
   "nbconvert_exporter": "python",
   "pygments_lexer": "ipython3",
   "version": "3.11.9"
  }
 },
 "nbformat": 4,
 "nbformat_minor": 5
}
