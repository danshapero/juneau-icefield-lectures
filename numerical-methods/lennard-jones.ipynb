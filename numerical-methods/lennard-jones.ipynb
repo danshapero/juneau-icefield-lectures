{
 "cells": [
  {
   "cell_type": "code",
   "execution_count": null,
   "id": "f3dde884-c4f5-4755-b039-70ee9fab2e60",
   "metadata": {},
   "outputs": [],
   "source": [
    "import tqdm\n",
    "import numpy as np\n",
    "import matplotlib.pyplot as plt\n",
    "from matplotlib.animation import FuncAnimation\n",
    "from IPython.display import HTML"
   ]
  },
  {
   "cell_type": "markdown",
   "id": "07fd6f62-a247-4af5-b906-30d14b03c42c",
   "metadata": {},
   "source": [
    "Here we'll look at a simplified model of interacting atoms that can exhibit solid, liquid, and gas-like behavior.\n",
    "The *Lennard-Jones* potential is commonly used in molecular dynamics; it specifies that atoms repel each other at short distances, attract each other at moderate distances, and barely interact at all at long distances.\n",
    "We'll write $r$ for the distance between two atoms.\n",
    "The LJ potential is specified by two constants, an energy $\\varepsilon$ and a characteristic distance $R$:\n",
    "$$U = \\varepsilon\\left(\\left(\\frac{R}{r}\\right)^{12} - 2\\left(\\frac{R}{r}\\right)^6\\right).$$\n",
    "The force between two atoms is the derivative of the potential $U$.\n",
    "At $r = R$, the force is zero, so this is the equilibrium distance."
   ]
  },
  {
   "cell_type": "code",
   "execution_count": null,
   "id": "8fae6ba5-db3e-40cd-8946-0cfbc42e2c57",
   "metadata": {},
   "outputs": [],
   "source": [
    "ε = 1.0\n",
    "R = 1.0"
   ]
  },
  {
   "cell_type": "code",
   "execution_count": null,
   "id": "e1c470ee-91cd-4b38-af5a-3df01be3e700",
   "metadata": {},
   "outputs": [],
   "source": [
    "rs = np.linspace(0.0, 3 * R, 256)[1:]\n",
    "Us = ε * ((R / rs)**12 - 2 * (R / rs)**6)"
   ]
  },
  {
   "cell_type": "code",
   "execution_count": null,
   "id": "e880956a-d315-4e0d-ad63-41802ff10045",
   "metadata": {},
   "outputs": [],
   "source": [
    "fig, ax = plt.subplots()\n",
    "ax.set_xlabel(\"distance ($R$)\")\n",
    "ax.set_ylabel(\"energy ($\\\\varepsilon$)\")\n",
    "ax.set_ylim((-ε, +ε))\n",
    "ax.plot(rs[1:], Us[1:]);"
   ]
  },
  {
   "cell_type": "markdown",
   "id": "cdf5d449-be7d-41c5-9dfb-80736da1610e",
   "metadata": {},
   "source": [
    "The functions below compute the energy and forces between a (possible large) collection of particles."
   ]
  },
  {
   "cell_type": "code",
   "execution_count": null,
   "id": "c2e9f69d-4a12-4af9-82d4-c31a09b5cf93",
   "metadata": {},
   "outputs": [],
   "source": [
    "def lennard_jones_potential(q):\n",
    "    U = 0.0\n",
    "    n = len(q)\n",
    "    for i in range(n):\n",
    "        for j in range(i + 1, n):\n",
    "            z = q[i] - q[j]\n",
    "            ρ = np.sqrt(np.dot(z, z)) / R\n",
    "            U += ε / ρ ** 6 * (1 / ρ ** 6 - 2)\n",
    "\n",
    "    return U\n",
    "\n",
    "\n",
    "def lennard_jones_force(q):\n",
    "    fs = np.zeros_like(q)\n",
    "    n = len(q)\n",
    "    for i in range(n):\n",
    "        for j in range(i + 1, n):\n",
    "            z = q[i] - q[j]\n",
    "            ρ = np.sqrt(np.dot(z, z)) / R\n",
    "            f = -12 * ε / R ** 2 / ρ ** 8 * (1 - 1 / ρ ** 6) * z\n",
    "            fs[i] += f\n",
    "            fs[j] -= f\n",
    "\n",
    "    return fs"
   ]
  },
  {
   "cell_type": "markdown",
   "id": "995a36ad-93a7-4c82-bdc4-95e46b9e4817",
   "metadata": {},
   "source": [
    "Here I've created an initial condition where the particles are laid out in a regular grid."
   ]
  },
  {
   "cell_type": "code",
   "execution_count": null,
   "id": "543d8785-41e7-4f57-99f1-6e2fb5779d5b",
   "metadata": {},
   "outputs": [],
   "source": [
    "num_rows, num_cols = 10, 10\n",
    "num_particles = num_rows * num_cols\n",
    "\n",
    "q = np.zeros((num_particles, 2))\n",
    "for i in range(num_rows):\n",
    "    for j in range(num_cols):\n",
    "        q[num_cols * i + j] = (R * i, R * j)\n",
    "\n",
    "\n",
    "σ = 0.1\n",
    "rng = np.random.default_rng(seed=1729)\n",
    "p = σ * rng.normal(size=(num_particles, 2))"
   ]
  },
  {
   "cell_type": "code",
   "execution_count": null,
   "id": "cf51b58e-c0c6-4011-a777-475f0884a324",
   "metadata": {},
   "outputs": [],
   "source": [
    "dt = 1e-2\n",
    "final_time = 20.0\n",
    "num_steps = int(final_time / dt)"
   ]
  },
  {
   "cell_type": "markdown",
   "id": "ec275df4-5b31-44fb-9b57-3bb3fc7f9a8f",
   "metadata": {},
   "source": [
    "This function implements a symplectic integration scheme, which approximately conserves energy."
   ]
  },
  {
   "cell_type": "code",
   "execution_count": null,
   "id": "44c08f64-e99e-444f-abf3-17d20a9e8f88",
   "metadata": {},
   "outputs": [],
   "source": [
    "def semi_explicit_euler(q, p, dt, num_steps, force, progressbar=False):\n",
    "    qs = np.zeros((num_steps + 1,) + q.shape)\n",
    "    ps = np.zeros((num_steps + 1,) + p.shape)\n",
    "\n",
    "    qs[0] = q\n",
    "    ps[0] = p\n",
    "\n",
    "    for t in tqdm.trange(num_steps):\n",
    "        qs[t + 1] = qs[t] + dt * ps[t]\n",
    "        ps[t + 1] = ps[t] + dt * force(qs[t + 1])\n",
    "        \n",
    "    return qs, ps"
   ]
  },
  {
   "cell_type": "code",
   "execution_count": null,
   "id": "b7ae8487-22a4-485e-94e1-e883f0d1c7b3",
   "metadata": {},
   "outputs": [],
   "source": [
    "qs, ps = semi_explicit_euler(q, p, dt, num_steps, lennard_jones_force)"
   ]
  },
  {
   "cell_type": "markdown",
   "id": "2a3f679c-7e29-4787-83cc-7cd4327aab5a",
   "metadata": {},
   "source": [
    "The code below makes a movie."
   ]
  },
  {
   "cell_type": "code",
   "execution_count": null,
   "id": "5ee410d3-6d60-4379-9dd0-60fe47b9e06c",
   "metadata": {},
   "outputs": [],
   "source": [
    "%%capture\n",
    "\n",
    "fig, ax = plt.subplots()\n",
    "ax.get_xaxis().set_visible(False)\n",
    "ax.get_yaxis().set_visible(False)\n",
    "ax.set_xlim((-2 * R, (num_rows + 1) * R))\n",
    "ax.set_ylim((-2 * R, (num_cols + 1) * R))\n",
    "ax.set_aspect(\"equal\")\n",
    "points = ax.scatter(qs[0, :, 0], qs[0, :, 1], animated=True)\n",
    "\n",
    "def update(timestep):\n",
    "    points.set_offsets(qs[timestep, :, :])\n",
    "\n",
    "num_steps = len(qs)\n",
    "fps = 60\n",
    "animation = FuncAnimation(fig, update, num_steps, interval=1e3 / fps)"
   ]
  },
  {
   "cell_type": "code",
   "execution_count": null,
   "id": "a7c8b17a-b221-4166-a78a-5ac73d625bf6",
   "metadata": {},
   "outputs": [],
   "source": [
    "HTML(animation.to_html5_video())"
   ]
  },
  {
   "cell_type": "markdown",
   "id": "f87b655c-8020-4f1b-98ea-f7907722a189",
   "metadata": {},
   "source": [
    "And a plot of the kinetic and potential energies."
   ]
  },
  {
   "cell_type": "code",
   "execution_count": null,
   "id": "d0ec1edd-9f5e-4e8e-9012-01baf2ecc956",
   "metadata": {},
   "outputs": [],
   "source": [
    "ts = np.linspace(0, final_time, num_steps)\n",
    "Us = np.array([lennard_jones_potential(q) for q in qs]) / num_particles\n",
    "Ks = 0.5 * np.sum(ps ** 2, axis=(1, 2)) / num_particles"
   ]
  },
  {
   "cell_type": "code",
   "execution_count": null,
   "id": "c0e6eb45-c692-4ec9-be89-9a73c0d2e2a0",
   "metadata": {},
   "outputs": [],
   "source": [
    "fig, ax0 = plt.subplots()\n",
    "ax0.plot(ts, Us, color=\"tab:blue\")\n",
    "ax0.tick_params(axis=\"y\", labelcolor=\"tab:blue\")\n",
    "ax0.set_ylabel(\"potential\", color=\"tab:blue\")\n",
    "ax1 = ax0.twinx()\n",
    "ax1.plot(ts, Ks, color=\"tab:orange\")\n",
    "ax1.tick_params(axis=\"y\", labelcolor=\"tab:orange\")\n",
    "ax1.set_ylabel(\"kinetic\", color=\"tab:orange\");"
   ]
  },
  {
   "cell_type": "code",
   "execution_count": null,
   "id": "245e657c-4d4e-4753-bbe8-987f623b0b06",
   "metadata": {},
   "outputs": [],
   "source": [
    "Es = Ks + Us\n",
    "δE = Es.max() - Es.min()\n",
    "δE / Ks.mean()"
   ]
  }
 ],
 "metadata": {
  "kernelspec": {
   "display_name": "Python 3 (ipykernel)",
   "language": "python",
   "name": "python3"
  },
  "language_info": {
   "codemirror_mode": {
    "name": "ipython",
    "version": 3
   },
   "file_extension": ".py",
   "mimetype": "text/x-python",
   "name": "python",
   "nbconvert_exporter": "python",
   "pygments_lexer": "ipython3",
   "version": "3.11.5"
  }
 },
 "nbformat": 4,
 "nbformat_minor": 5
}
