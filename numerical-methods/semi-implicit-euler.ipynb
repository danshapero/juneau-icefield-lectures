{
 "cells": [
  {
   "cell_type": "code",
   "execution_count": null,
   "id": "d0718a12-0013-4eab-9a49-7dee3957a659",
   "metadata": {},
   "outputs": [],
   "source": [
    "import numpy as np\n",
    "from numpy import pi as π\n",
    "import matplotlib.pyplot as plt"
   ]
  },
  {
   "cell_type": "markdown",
   "id": "f8fb0971-a3af-45dc-b625-b3cfb7a640bf",
   "metadata": {},
   "source": [
    "The potential energy between two bodies of masses $M$ and $m$ a distance $r$ apart is\n",
    "$$\\phi(r) = -\\frac{GMm}{r}$$\n",
    "where $G$ is Newton's gravitational constant.\n",
    "The force between them is\n",
    "$$F = -\\nabla\\phi = -\\frac{GMm\\,\\mathbf{r}}{r^3}.$$\n",
    "We'll work in a unit system where $GMm = 1$ because I forget what the mass of the sun is and we don't have internet up here."
   ]
  },
  {
   "cell_type": "code",
   "execution_count": null,
   "id": "f859402e-6e7c-4aeb-ad8c-5d4ebed925ab",
   "metadata": {},
   "outputs": [],
   "source": [
    "def potential_energy(x):\n",
    "    r = np.sqrt(np.dot(x, x))\n",
    "    return -1 / r\n",
    "\n",
    "def force(x):\n",
    "    r = np.sqrt(np.dot(x, x))\n",
    "    return - x / r**3"
   ]
  },
  {
   "cell_type": "markdown",
   "id": "c8508cb5-dfce-47a7-843f-7c28f2b7e077",
   "metadata": {},
   "source": [
    "We'll start the planet at the position $(1, 0)$ and assume its initial velocity is $(0, 1)$.\n",
    "Later we can add a bit of eccentricity."
   ]
  },
  {
   "cell_type": "code",
   "execution_count": null,
   "id": "3e491b5a-942d-4c9e-b83e-4516b03bbc1a",
   "metadata": {},
   "outputs": [],
   "source": [
    "x_0 = np.array([1.0, 0.0])\n",
    "p_0 = np.array([0.0, 1.0])"
   ]
  },
  {
   "cell_type": "markdown",
   "id": "1318d2a6-e924-4a18-adcb-fe1945ce1b0e",
   "metadata": {},
   "source": [
    "Our goal is to solve the ODE\n",
    "$$\\begin{align}\n",
    "\\frac{d}{dt}\\mathbf{x} & = \\mathbf{p} \\\\\n",
    "\\frac{d}{dt}\\mathbf{p} & = F(\\mathbf{x}) = -\\frac{\\mathbf{x}}{|x|^3}\n",
    "\\end{align}$$\n",
    "subject to the initial conditions $x(t = 0) = x_0$, $p(t = 0) = p_0$.\n",
    "While this problem is exactly solvable, most ODEs aren't.\n",
    "So we can try out numerical methods on this problem to get a better feel for how well they work.\n",
    "Numerical methods for ODEs are based on approximating time derivatives by a difference quotient, and in order to do that, we have to pick a timestep.\n",
    "Before we go on to actually writing the method, let's pick our timestep and total number of steps."
   ]
  },
  {
   "cell_type": "code",
   "execution_count": null,
   "id": "02d3d95f-fb17-4c09-94c5-2d9a5e89c715",
   "metadata": {},
   "outputs": [],
   "source": [
    "dt = 1.0 / 24\n",
    "num_steps = 2400"
   ]
  },
  {
   "cell_type": "markdown",
   "id": "bff148f5-5050-47a8-b106-d0eaf41a390d",
   "metadata": {},
   "source": [
    "Then we'll create some arrays to store the solution and initialize it."
   ]
  },
  {
   "cell_type": "code",
   "execution_count": null,
   "id": "25f6a2c4-8e83-4a71-bdde-2cb583fcee4d",
   "metadata": {},
   "outputs": [],
   "source": [
    "xs = np.zeros((num_steps + 1, 2))\n",
    "ps = np.zeros((num_steps + 1, 2))\n",
    "\n",
    "xs[0] = x_0\n",
    "ps[0] = p_0"
   ]
  },
  {
   "cell_type": "markdown",
   "id": "8c242989-3649-46a4-9582-3fd563c43c4d",
   "metadata": {},
   "source": [
    "Everyone's first numerical method is the *first-order*, *explicit* scheme:\n",
    "$$\\begin{align}\n",
    "\\frac{x_{t + 1} - x_t}{\\delta t} & = p_t \\\\\n",
    " & \\\\\n",
    "\\frac{p_{t + 1} - p_t}{\\delta t} & = F(x_t)\n",
    "\\end{align}$$"
   ]
  },
  {
   "cell_type": "code",
   "execution_count": null,
   "id": "1485f34e-daf1-4602-b258-22a98232f9cc",
   "metadata": {},
   "outputs": [],
   "source": [
    "for t in range(num_steps):\n",
    "    xs[t + 1] = xs[t] + dt * ps[t]\n",
    "    ps[t + 1] = ps[t] + dt * force(xs[t])"
   ]
  },
  {
   "cell_type": "markdown",
   "id": "716cbb7b-fa5a-4a0d-9ac0-09c55a220cad",
   "metadata": {},
   "source": [
    "Now let's see what the trajectory looks like:"
   ]
  },
  {
   "cell_type": "code",
   "execution_count": null,
   "id": "e3b73b37-70a3-4f2b-abb5-0cd6ddb5b306",
   "metadata": {},
   "outputs": [],
   "source": [
    "fig, ax = plt.subplots()\n",
    "ax.set_aspect(\"equal\")\n",
    "ax.plot(xs[:, 0], xs[:, 1]);"
   ]
  },
  {
   "cell_type": "markdown",
   "id": "2b3d6fdb-98de-4e39-9a5c-5d6220b4051f",
   "metadata": {},
   "source": [
    "Seems a little off maybe, but how?\n",
    "A pretty important property of classical mechanical systems is that they conserve energy -- the quantity\n",
    "$$E = \\frac{|p|^2}{2} - \\frac{1}{|x|}$$\n",
    "is constant along trajectories.\n",
    "How does the first-order explicit scheme do?"
   ]
  },
  {
   "cell_type": "code",
   "execution_count": null,
   "id": "e0f09c01-cbc3-441a-a4bf-cecc768bc9b2",
   "metadata": {},
   "outputs": [],
   "source": [
    "E = 0.5 * np.sum(ps**2, axis=1) - 1.0 / np.sqrt(np.sum(xs**2, axis=1))\n",
    "\n",
    "fig, ax = plt.subplots()\n",
    "ax.set_xlabel(\"timestep\")\n",
    "ax.set_ylabel(\"energy\")\n",
    "ax.plot(E);"
   ]
  },
  {
   "cell_type": "markdown",
   "id": "e2422d30-cede-4cbc-8553-36bd4d2a00d2",
   "metadata": {},
   "source": [
    "The system seems to be gaining energy in time, which is clearly wrong!\n",
    "We could take a smaller timestep $\\delta t$ and more steps to mitigate this effect, or we could see if there are nicer methods.\n",
    "\n",
    "Earlier, we updated the force based on the old value of the position, but by that point we had already computed a new position.\n",
    "What if we instead tried this:\n",
    "$$\\begin{align}\n",
    "\\frac{x_{t + 1} - x_t}{\\delta t} & = p_t \\\\\n",
    " & \\\\\n",
    "\\frac{p_{t + 1} - p_t}{\\delta t} & = F(x_{t + 1})\n",
    "\\end{align}$$\n",
    "where we use the newly-computed value $x_{t + 1}$ to compute the force."
   ]
  },
  {
   "cell_type": "code",
   "execution_count": null,
   "id": "f7675f1c-42f2-490b-968d-9dec817edf6f",
   "metadata": {},
   "outputs": [],
   "source": [
    "xs = np.zeros((num_steps + 1, 2))\n",
    "ps = np.zeros((num_steps + 1, 2))\n",
    "\n",
    "xs[0] = x_0\n",
    "ps[0] = p_0\n",
    "\n",
    "for t in range(num_steps):\n",
    "    xs[t + 1] = xs[t] + dt * ps[t]\n",
    "    ps[t + 1] = ps[t] + dt * force(xs[t + 1])"
   ]
  },
  {
   "cell_type": "markdown",
   "id": "87badd34-14f7-4d9b-b9ad-41b874b03d35",
   "metadata": {},
   "source": [
    "The trajectories look more circular and they stay bounded!"
   ]
  },
  {
   "cell_type": "code",
   "execution_count": null,
   "id": "533ebbe1-57ac-40b8-bfc9-5eb13aebb9de",
   "metadata": {},
   "outputs": [],
   "source": [
    "fig, ax = plt.subplots()\n",
    "ax.set_aspect(\"equal\")\n",
    "ax.plot(xs[:, 0], xs[:, 1]);"
   ]
  },
  {
   "cell_type": "markdown",
   "id": "5b7b2269-e32d-4d82-a1b9-aa3680203882",
   "metadata": {},
   "source": [
    "The energy isn't conserved exactly, but it stays bounded too!"
   ]
  },
  {
   "cell_type": "code",
   "execution_count": null,
   "id": "ff333325-f986-496b-83c2-1489570d5ebd",
   "metadata": {},
   "outputs": [],
   "source": [
    "E = 0.5 * np.sum(ps**2, axis=1) - 1.0 / np.sqrt(np.sum(xs**2, axis=1))\n",
    "\n",
    "fig, ax = plt.subplots()\n",
    "ax.set_xlabel(\"timestep\")\n",
    "ax.set_ylabel(\"energy\")\n",
    "ax.plot(E);"
   ]
  }
 ],
 "metadata": {
  "kernelspec": {
   "display_name": "firedrake",
   "language": "python",
   "name": "firedrake"
  },
  "language_info": {
   "codemirror_mode": {
    "name": "ipython",
    "version": 3
   },
   "file_extension": ".py",
   "mimetype": "text/x-python",
   "name": "python",
   "nbconvert_exporter": "python",
   "pygments_lexer": "ipython3",
   "version": "3.10.11"
  }
 },
 "nbformat": 4,
 "nbformat_minor": 5
}
