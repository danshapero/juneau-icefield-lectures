{
 "cells": [
  {
   "cell_type": "code",
   "execution_count": null,
   "id": "b8b9ccf4-9a77-4782-9f06-31ec09894379",
   "metadata": {},
   "outputs": [],
   "source": [
    "import numpy as np\n",
    "import matplotlib.pyplot as plt\n",
    "import tqdm\n",
    "import firedrake\n",
    "from firedrake import inner, Constant, div, dx, ds, exp\n",
    "import icepack, icepack.models, icepack.solvers\n",
    "from icepack.constants import (\n",
    "    ice_density as ρ_I,\n",
    "    water_density as ρ_W,\n",
    "    weertman_sliding_law as m,\n",
    "    gravity as g,\n",
    ")"
   ]
  },
  {
   "cell_type": "code",
   "execution_count": null,
   "id": "098d45d2-4c43-4e2e-a19a-eaafdad9987d",
   "metadata": {},
   "outputs": [],
   "source": [
    "Lx = 50e3\n",
    "nx = 50\n",
    "mesh = firedrake.IntervalMesh(nx, Lx)\n",
    "\n",
    "Q = firedrake.FunctionSpace(mesh, \"CG\", 2)\n",
    "V = firedrake.FunctionSpace(mesh, \"CG\", 2)\n",
    "\n",
    "x, = firedrake.SpatialCoordinate(mesh)"
   ]
  },
  {
   "cell_type": "code",
   "execution_count": null,
   "id": "1a969679-d89f-4fd4-9681-e4a93876a09c",
   "metadata": {},
   "outputs": [],
   "source": [
    "b_in, b_out = Constant(200), Constant(-400)\n",
    "δb = Constant(150)\n",
    "λ = Constant(0.85)\n",
    "α = Constant(100.0)\n",
    "expr = b_in - (b_in - b_out) * x / Lx + δb * exp(-α * (x / Lx - λ)**2)\n",
    "b = firedrake.interpolate(expr, Q)\n",
    "\n",
    "s_in, s_out = Constant(850), Constant(50)\n",
    "s0 = firedrake.interpolate(s_in - (s_in - s_out) * x / Lx, Q)\n",
    "\n",
    "h0 = firedrake.interpolate(s0 - b, Q)"
   ]
  },
  {
   "cell_type": "code",
   "execution_count": null,
   "id": "faee25c8-e9eb-4d45-88ef-4afe6c92cb61",
   "metadata": {},
   "outputs": [],
   "source": [
    "h_in = s_in - b_in\n",
    "δs_δx = (s_out - s_in) / Lx\n",
    "τ_D = -Constant(ρ_I * g * h_in * δs_δx)\n",
    "\n",
    "u_in, u_out = Constant(20), Constant(2400)\n",
    "velocity_x = u_in + (u_out - u_in) * (x/Lx)**2\n",
    "u0 = firedrake.interpolate(velocity_x, V)"
   ]
  },
  {
   "cell_type": "code",
   "execution_count": null,
   "id": "2290067d-97b3-45d6-bcbf-4585621aa789",
   "metadata": {},
   "outputs": [],
   "source": [
    "T = Constant(255.0)\n",
    "A = icepack.rate_factor(T)\n",
    "\n",
    "C_0, δC = Constant(0.95), Constant(0.05)\n",
    "C = firedrake.interpolate((C_0 - δC * x/Lx) * τ_D / u_in ** (1 / m), Q)\n",
    "\n",
    "p_W = ρ_W * g * firedrake.max_value(0, h0 - s0)\n",
    "p_I = ρ_I * g * h0\n",
    "ϕ = 1 - p_W / p_I"
   ]
  },
  {
   "cell_type": "code",
   "execution_count": null,
   "id": "947ab627-6756-40b1-9ef6-f92b7b6797c0",
   "metadata": {},
   "outputs": [],
   "source": [
    "def weertman_friction_with_ramp(**kwargs):\n",
    "    names = (\"velocity\", \"thickness\", \"surface\", \"friction\")\n",
    "    u, h, s, C = map(kwargs.__getitem__, names)\n",
    "    p_W = ρ_W * g * firedrake.max_value(0, h - s)\n",
    "    p_I = ρ_I * g * h\n",
    "    ϕ = 1 - p_W / p_I\n",
    "    return icepack.models.friction.bed_friction(velocity=u, friction=C * ϕ)\n",
    "\n",
    "model = icepack.models.IceStream(friction=weertman_friction_with_ramp)\n",
    "opts = {\n",
    "    \"dirichlet_ids\": [1],\n",
    "    \"diagnostic_solver_type\": \"petsc\",\n",
    "    \"diagnostic_solver_parameters\": {\"snes_type\": \"newtontr\"},\n",
    "}\n",
    "solver = icepack.solvers.FlowSolver(model, **opts)"
   ]
  },
  {
   "cell_type": "code",
   "execution_count": null,
   "id": "c1928c71-56fd-41e9-8eee-97d5d60f4d73",
   "metadata": {},
   "outputs": [],
   "source": [
    "u0 = solver.diagnostic_solve(\n",
    "    velocity=u0, thickness=h0, surface=s0, fluidity=A, friction=C\n",
    ")"
   ]
  },
  {
   "cell_type": "code",
   "execution_count": null,
   "id": "c1aec827-617b-4a64-86cc-3f5fb23104db",
   "metadata": {},
   "outputs": [],
   "source": [
    "num_years = 250\n",
    "timesteps_per_year = 2\n",
    "\n",
    "δt = 1.0 / timesteps_per_year\n",
    "num_timesteps = num_years * timesteps_per_year\n",
    "\n",
    "a_0, δa = Constant(1.2), Constant(2.7)\n",
    "a = firedrake.interpolate(a_0 - δa * x / Lx, Q)\n",
    "\n",
    "h = h0.copy(deepcopy=True)\n",
    "s = s0.copy(deepcopy=True)\n",
    "u = u0.copy(deepcopy=True)\n",
    "\n",
    "for step in tqdm.trange(num_timesteps + 1):\n",
    "    h = solver.prognostic_solve(\n",
    "        δt, thickness=h, accumulation=a, velocity=u, thickness_inflow=h0\n",
    "    )\n",
    "    s = icepack.compute_surface(thickness=h, bed=b)\n",
    "    u = solver.diagnostic_solve(\n",
    "        velocity=u, thickness=h, surface=s, fluidity=A, friction=C\n",
    "    )\n",
    "\n",
    "h_steady_state = h.copy(deepcopy=True)\n",
    "s_steady_state = s.copy(deepcopy=True)\n",
    "z_b_steady_state = firedrake.interpolate(s - h, Q)"
   ]
  },
  {
   "cell_type": "code",
   "execution_count": null,
   "id": "8003715c-6be9-427a-bc6d-2e95c43028a4",
   "metadata": {},
   "outputs": [],
   "source": [
    "h_min = Constant(1.0)\n",
    "a_0.assign(1.05)\n",
    "a.interpolate(a_0 - δa * x / Lx)\n",
    "for step in tqdm.trange(2 * num_timesteps + 1):\n",
    "    h = solver.prognostic_solve(\n",
    "        δt, thickness=h, accumulation=a, velocity=u, thickness_inflow=h0\n",
    "    )\n",
    "    h = firedrake.interpolate(firedrake.max_value(h_min, h), Q)\n",
    "    s = icepack.compute_surface(h=h, b=b)\n",
    "    u = solver.diagnostic_solve(\n",
    "        velocity=u, thickness=h, surface=s, fluidity=A, friction=C\n",
    "    )"
   ]
  },
  {
   "cell_type": "code",
   "execution_count": null,
   "id": "c66fcefb-5c11-4974-b9fa-6032138c7df5",
   "metadata": {},
   "outputs": [],
   "source": [
    "z_b = firedrake.interpolate(s - h, Q)\n",
    "fig, axes = plt.subplots(figsize=(8.4, 3.2), nrows=1, ncols=2, sharex=True, sharey=True)\n",
    "firedrake.plot(s_steady_state, axes=axes[0], color=\"tab:blue\")\n",
    "firedrake.plot(z_b_steady_state, axes=axes[0], color=\"tab:blue\")\n",
    "firedrake.plot(b, axes=axes[0], edgecolor=\"tab:brown\")\n",
    "firedrake.plot(s, axes=axes[1], edgecolor=\"tab:blue\")\n",
    "firedrake.plot(z_b, axes=axes[1], edgecolor=\"tab:blue\")\n",
    "firedrake.plot(b, axes=axes[1], edgecolor=\"tab:brown\");"
   ]
  }
 ],
 "metadata": {
  "kernelspec": {
   "display_name": "firedrake",
   "language": "python",
   "name": "firedrake"
  },
  "language_info": {
   "codemirror_mode": {
    "name": "ipython",
    "version": 3
   },
   "file_extension": ".py",
   "mimetype": "text/x-python",
   "name": "python",
   "nbconvert_exporter": "python",
   "pygments_lexer": "ipython3",
   "version": "3.10.11"
  }
 },
 "nbformat": 4,
 "nbformat_minor": 5
}
