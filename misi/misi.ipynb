{
 "cells": [
  {
   "cell_type": "code",
   "execution_count": null,
   "id": "b8b9ccf4-9a77-4782-9f06-31ec09894379",
   "metadata": {},
   "outputs": [],
   "source": [
    "import numpy as np\n",
    "import matplotlib.pyplot as plt\n",
    "from matplotlib.animation import FuncAnimation\n",
    "from IPython.display import HTML\n",
    "from tqdm.notebook import trange\n",
    "import firedrake\n",
    "from firedrake import inner, Constant, div, dx, ds, exp\n",
    "import icepack, icepack.models, icepack.solvers\n",
    "from icepack.constants import (\n",
    "    ice_density as ρ_I,\n",
    "    water_density as ρ_W,\n",
    "    weertman_sliding_law as m,\n",
    "    gravity as g,\n",
    ")"
   ]
  },
  {
   "cell_type": "code",
   "execution_count": null,
   "id": "098d45d2-4c43-4e2e-a19a-eaafdad9987d",
   "metadata": {},
   "outputs": [],
   "source": [
    "Lx = Constant(50e3)\n",
    "nx = 50\n",
    "interval = firedrake.UnitIntervalMesh(nx)\n",
    "ξ, = firedrake.SpatialCoordinate(interval)\n",
    "V = interval.coordinates.function_space()\n",
    "λ = Constant(0.125)\n",
    "expr = firedrake.as_vector((Lx * (λ * ξ + (1 - λ) * ξ**2),))\n",
    "x = firedrake.Function(V).interpolate(expr)\n",
    "mesh = firedrake.Mesh(x)\n",
    "\n",
    "Q = firedrake.FunctionSpace(mesh, \"CG\", 2)\n",
    "V = firedrake.FunctionSpace(mesh, \"CG\", 2)\n",
    "\n",
    "x, = firedrake.SpatialCoordinate(mesh)"
   ]
  },
  {
   "cell_type": "code",
   "execution_count": null,
   "id": "888bd411-eb68-4668-abe1-033a754ac6b4",
   "metadata": {},
   "outputs": [],
   "source": [
    "fig, ax = plt.subplots()\n",
    "xs = mesh.coordinates.dat.data_ro\n",
    "ax.scatter(np.linspace(0, len(xs), len(xs)), xs)"
   ]
  },
  {
   "cell_type": "code",
   "execution_count": null,
   "id": "1a969679-d89f-4fd4-9681-e4a93876a09c",
   "metadata": {},
   "outputs": [],
   "source": [
    "b_in, b_out = Constant(200), Constant(-400)\n",
    "δb = Constant(150)\n",
    "λ = Constant(0.85)\n",
    "α = Constant(100.0)\n",
    "expr = b_in - (b_in - b_out) * x / Lx + δb * exp(-α * (x / Lx - λ)**2)\n",
    "b = firedrake.Function(Q).interpolate(expr)\n",
    "\n",
    "s_in, s_out = Constant(850), Constant(50)\n",
    "s0 = firedrake.Function(Q).interpolate(s_in - (s_in - s_out) * x / Lx)\n",
    "\n",
    "h0 = firedrake.Function(Q).interpolate(s0 - b)"
   ]
  },
  {
   "cell_type": "code",
   "execution_count": null,
   "id": "faee25c8-e9eb-4d45-88ef-4afe6c92cb61",
   "metadata": {},
   "outputs": [],
   "source": [
    "h_in = s_in - b_in\n",
    "δs_δx = (s_out - s_in) / Lx\n",
    "τ_D = -Constant(ρ_I * g * h_in * δs_δx)\n",
    "\n",
    "u_in, u_out = Constant(20), Constant(2400)\n",
    "velocity_x = u_in + (u_out - u_in) * (x/Lx)**2\n",
    "u0 = firedrake.Function(V).interpolate(velocity_x)"
   ]
  },
  {
   "cell_type": "code",
   "execution_count": null,
   "id": "2290067d-97b3-45d6-bcbf-4585621aa789",
   "metadata": {},
   "outputs": [],
   "source": [
    "T = Constant(255.0)\n",
    "A = icepack.rate_factor(T)\n",
    "\n",
    "C_0, δC = Constant(0.95), Constant(0.05)\n",
    "expr = (C_0 - δC * x/Lx) * τ_D / u_in ** (1 / m)\n",
    "C = firedrake.Function(Q).interpolate(expr)\n",
    "\n",
    "p_W = ρ_W * g * firedrake.max_value(0, h0 - s0)\n",
    "p_I = ρ_I * g * h0\n",
    "ϕ = 1 - p_W / p_I"
   ]
  },
  {
   "cell_type": "code",
   "execution_count": null,
   "id": "947ab627-6756-40b1-9ef6-f92b7b6797c0",
   "metadata": {},
   "outputs": [],
   "source": [
    "def weertman_friction_with_ramp(**kwargs):\n",
    "    names = (\"velocity\", \"thickness\", \"surface\", \"friction\")\n",
    "    u, h, s, C = map(kwargs.__getitem__, names)\n",
    "    p_W = ρ_W * g * firedrake.max_value(0, h - s)\n",
    "    p_I = ρ_I * g * h\n",
    "    ϕ = 1 - p_W / p_I\n",
    "    return icepack.models.friction.bed_friction(velocity=u, friction=C * ϕ)\n",
    "\n",
    "model = icepack.models.IceStream(friction=weertman_friction_with_ramp)\n",
    "opts = {\"dirichlet_ids\": [1]}\n",
    "solver = icepack.solvers.FlowSolver(model, **opts)"
   ]
  },
  {
   "cell_type": "code",
   "execution_count": null,
   "id": "c1928c71-56fd-41e9-8eee-97d5d60f4d73",
   "metadata": {},
   "outputs": [],
   "source": [
    "u0 = solver.diagnostic_solve(\n",
    "    velocity=u0, thickness=h0, surface=s0, fluidity=A, friction=C\n",
    ")"
   ]
  },
  {
   "cell_type": "code",
   "execution_count": null,
   "id": "c1aec827-617b-4a64-86cc-3f5fb23104db",
   "metadata": {},
   "outputs": [],
   "source": [
    "num_years = 250\n",
    "timesteps_per_year = 2\n",
    "\n",
    "δt = 1.0 / timesteps_per_year\n",
    "num_timesteps = num_years * timesteps_per_year\n",
    "\n",
    "a_0, δa = Constant(1.2), Constant(2.7)\n",
    "a = firedrake.Function(Q).interpolate(a_0 - δa * x / Lx)\n",
    "\n",
    "h = h0.copy(deepcopy=True)\n",
    "s = s0.copy(deepcopy=True)\n",
    "u = u0.copy(deepcopy=True)\n",
    "\n",
    "hs = [h.copy(deepcopy=True)]\n",
    "ss = [s.copy(deepcopy=True)]\n",
    "zbs = [firedrake.Function(Q).interpolate(s - h)]\n",
    "\n",
    "for step in trange(num_timesteps + 1):\n",
    "    h = solver.prognostic_solve(\n",
    "        δt,\n",
    "        thickness=h,\n",
    "        accumulation=a,\n",
    "        velocity=u,\n",
    "        thickness_inflow=h0,\n",
    "    )\n",
    "    s = icepack.compute_surface(thickness=h, bed=b)\n",
    "\n",
    "    u = solver.diagnostic_solve(\n",
    "        velocity=u,\n",
    "        thickness=h,\n",
    "        surface=s,\n",
    "        fluidity=A,\n",
    "        friction=C,\n",
    "    )\n",
    "\n",
    "    hs.append(h.copy(deepcopy=True))\n",
    "    ss.append(s.copy(deepcopy=True))\n",
    "    zbs.append(firedrake.Function(Q).interpolate(s - h))"
   ]
  },
  {
   "cell_type": "code",
   "execution_count": null,
   "id": "87b4e299-2fe0-4080-9b0e-3cf9e657697c",
   "metadata": {},
   "outputs": [],
   "source": [
    "%%capture\n",
    "fig, ax = plt.subplots()\n",
    "\n",
    "def animate(fields):\n",
    "    h, s, z_b = fields\n",
    "    ax.clear()\n",
    "    firedrake.plot(z_b, axes=ax, edgecolor=\"tab:blue\")\n",
    "    firedrake.plot(b, axes=ax, edgecolor=\"tab:brown\")\n",
    "    firedrake.plot(s, axes=ax, edgecolor=\"tab:blue\")\n",
    "\n",
    "animation = FuncAnimation(fig, animate, list(zip(hs, ss, zbs)), interval=1e3 / 60)"
   ]
  },
  {
   "cell_type": "code",
   "execution_count": null,
   "id": "f8912f2e-7f2a-432c-8983-f446cba1cbc0",
   "metadata": {},
   "outputs": [],
   "source": [
    "HTML(animation.to_html5_video())"
   ]
  },
  {
   "cell_type": "code",
   "execution_count": null,
   "id": "8003715c-6be9-427a-bc6d-2e95c43028a4",
   "metadata": {},
   "outputs": [],
   "source": [
    "hs = [h.copy(deepcopy=True)]\n",
    "ss = [s.copy(deepcopy=True)]\n",
    "zbs = [firedrake.Function(Q).interpolate(s - h)]\n",
    "\n",
    "h_min = Constant(10.0)\n",
    "a_0.assign(1.05)\n",
    "a.interpolate(a_0 - δa * x / Lx)\n",
    "for step in trange(4 * num_timesteps + 1):\n",
    "    h = solver.prognostic_solve(\n",
    "        δt, thickness=h, accumulation=a, velocity=u, thickness_inflow=h0\n",
    "    )\n",
    "    h.interpolate(firedrake.max_value(h_min, h))\n",
    "    s = icepack.compute_surface(h=h, b=b)\n",
    "    u = solver.diagnostic_solve(\n",
    "        velocity=u, thickness=h, surface=s, fluidity=A, friction=C\n",
    "    )\n",
    "\n",
    "    hs.append(h.copy(deepcopy=True))\n",
    "    ss.append(s.copy(deepcopy=True))\n",
    "    zbs.append(firedrake.Function(Q).interpolate(s - h))"
   ]
  },
  {
   "cell_type": "code",
   "execution_count": null,
   "id": "0c3c099e-ef09-4f69-a261-7b2c533edd83",
   "metadata": {},
   "outputs": [],
   "source": [
    "%%capture\n",
    "fig, ax = plt.subplots()\n",
    "\n",
    "def animate(fields):\n",
    "    h, s, z_b = fields\n",
    "    ax.clear()\n",
    "    firedrake.plot(z_b, axes=ax, edgecolor=\"tab:blue\")\n",
    "    firedrake.plot(b, axes=ax, edgecolor=\"tab:brown\")\n",
    "    firedrake.plot(s, axes=ax, edgecolor=\"tab:blue\")\n",
    "\n",
    "animation = FuncAnimation(fig, animate, list(zip(hs, ss, zbs)), interval=1e3 / 60)"
   ]
  },
  {
   "cell_type": "code",
   "execution_count": null,
   "id": "6d20908a-5af3-4602-804d-357f1be61174",
   "metadata": {},
   "outputs": [],
   "source": [
    "HTML(animation.to_html5_video())"
   ]
  }
 ],
 "metadata": {
  "kernelspec": {
   "display_name": "firedrake",
   "language": "python",
   "name": "firedrake"
  },
  "language_info": {
   "codemirror_mode": {
    "name": "ipython",
    "version": 3
   },
   "file_extension": ".py",
   "mimetype": "text/x-python",
   "name": "python",
   "nbconvert_exporter": "python",
   "pygments_lexer": "ipython3",
   "version": "3.12.8"
  }
 },
 "nbformat": 4,
 "nbformat_minor": 5
}
